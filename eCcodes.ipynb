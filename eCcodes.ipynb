{
 "cells": [
  {
   "cell_type": "markdown",
   "id": "52b9f70d-7585-4926-9206-d9cd2754fb4d",
   "metadata": {},
   "source": [
    "# ecCodes\n",
    "\n",
    "The ECMWF ecCodes library provides an API for decoding/encoding GRIB (General Regularly-distributed Information in Binary form) (editions 1 & 2) and BUFR (editions 3 & 4) messages. The Python interface (“eccodes” package) offers nearly one-to-one bindings to the C API, using NumPy arrays for field extraction and manipulation"
   ]
  },
  {
   "cell_type": "markdown",
   "id": "21898664-2293-4621-b716-d38bd3797620",
   "metadata": {},
   "source": [
    "https://learning.ecmwf.int/mod/scorm/player.php?a=176&currentorg=Introduction_to_BUFR_decoding_with_ecCodes_ORG&scoid=452\n",
    "# BUFR decoding with ecCodes (endcoding and decoding tool)\n",
    "- ECCODES = GRIB DECODER + BUFR decoder + GTS headers decoder\n",
    "- BUFR = Binary UNiversal Form for the Representation of meteorogical data\n",
    "- BUFR is a flexible binary format. It is mainly used to encode in situ and satellite observations (e.g. temeprature, bariometric pressura and visiability at a weather station) or upper air sounding (with ballons). BUFR can also represent forecast data.\n",
    "- It is maintained by the World Meteorogical Organization (WMO). It belongs to the category of table-driven code form, where the meaning of data elements is determined by referring to a set of tables that are kept and maintained separately from the message itself. The WMO Manual on Codes is the only authoratative source for the GRIB and BUFR codes and fully describes their coding standards.\n",
    "- BUFR messages are composed of sections. The sections encode the metadata as well as the data itself. Some metadata is like the instruments used to measure the temperature, etc. It has 3 headers sections and 2 data sections:\n",
    "  - Indicator (total length, edition number), Identification (master table, data catrehory, date, time), Optional local use (whatever the originating centre needs for internal purposes, procesing, arhciving)\n",
    "  - data description (structure), binary data\n",
    "  - and an end section.\n",
    "- ecCodes uses key/value pairs. The key is a unique identifier for an item of data, and the value of it.\n",
    "- in ecCodes, the data is decoded only if you set the unpack key to 1.\n",
    "  - For that, in section 3 there are sequences of descriptors, that together with tables, can hel to unpack/decode the data in section 4.\n",
    "    - There are 4 types of descriptors in the ormat F-X-Y: F=[0 element,1 replication,2 operator,3 sequence]\n",
    "    - \n",
    "- BUFR decoding formula = (intValue + Reference)*10⁻scale = value\n",
    "- In the data section (4), the data may be compressed or uncompressed:\n",
    "- ecCodes provides a set of command line tools which allow you to inspect or change the BUFR messages within files. The most important are:\n",
    "    - bufr_count - print total number of message in files: bufr_count -v syn*.bufr\n",
    "    - bufr_dump - dumps the content in different formats: bfr_dump -p my.bufr, bufr_dump -js (json (javascript object notation) output) ...\n",
    "    - bufr_compare - compares 2 bufr files\n",
    "    - bufr_ls - list a summary of header info\n",
    "    - bufr_-filter - applies a set of rules to each message (really powerful). You can use it to filter and obtain whatever information you want. You have to define the rules in a macro.\n",
    "\n",
    "- Conclusions:\n",
    "  - BUFR is a table-driven binary format that is mostly used to enconde in situ and satellite observations.\n",
    "  - BUFR messages consist of several sections and contain metadata as well as data\n",
    "  - BUFR data consist of different types of descriptors and associated data.\n",
    "  - ecCodes provides a set of command line tools which allow you to handle BUFR messsages within files."
   ]
  },
  {
   "cell_type": "code",
   "execution_count": 1,
   "id": "52e6dcea-5bb4-40d6-b1ee-fa5f72dd87c1",
   "metadata": {},
   "outputs": [
    {
     "name": "stdout",
     "output_type": "stream",
     "text": [
      "Requirement already satisfied: eccodes in /home/duskdawn/anaconda3/envs/pandas/lib/python3.12/site-packages (2.41.0)\n",
      "Requirement already satisfied: numpy in /home/duskdawn/anaconda3/envs/pandas/lib/python3.12/site-packages (from eccodes) (2.2.6)\n",
      "Requirement already satisfied: attrs in /home/duskdawn/anaconda3/envs/pandas/lib/python3.12/site-packages (from eccodes) (25.1.0)\n",
      "Requirement already satisfied: cffi in /home/duskdawn/anaconda3/envs/pandas/lib/python3.12/site-packages (from eccodes) (1.17.1)\n",
      "Requirement already satisfied: findlibs in /home/duskdawn/anaconda3/envs/pandas/lib/python3.12/site-packages (from eccodes) (0.1.1)\n",
      "Requirement already satisfied: pycparser in /home/duskdawn/anaconda3/envs/pandas/lib/python3.12/site-packages (from cffi->eccodes) (2.22)\n"
     ]
    }
   ],
   "source": [
    "!pip install eccodes"
   ]
  },
  {
   "cell_type": "markdown",
   "id": "495463cc-5aa0-4b67-a268-f3a7ea4ac570",
   "metadata": {},
   "source": [
    "## Reading a BUFR (Binary Universal Form for the Representation of meteorological data) File\n",
    "\n",
    "Below, we read a BUFR message (e.g., a radiosonde observation) and extract core fields: station ID, latitude, longitude, and temperature observations. We use codes_bufr_new_from_samples to load a sample template and decode variables; then we iterate over subsets."
   ]
  },
  {
   "cell_type": "markdown",
   "id": "52c53adb-2cf2-4b4d-b010-9537a18e42b5",
   "metadata": {},
   "source": [
    "- First we create an account at ecmwf\n",
    "- we generate an api key\n",
    "- with that we can use both the official ecmwf-api-client and the community‐developed ecmwf-opendata packages. "
   ]
  },
  {
   "cell_type": "code",
   "execution_count": 2,
   "id": "f9d353e4-6e2e-494c-af2b-fee09f2616b1",
   "metadata": {},
   "outputs": [
    {
     "name": "stdout",
     "output_type": "stream",
     "text": [
      "Collecting ecmwf-api-client\n",
      "  Downloading ecmwf_api_client-1.6.5-py3-none-any.whl.metadata (4.8 kB)\n",
      "Downloading ecmwf_api_client-1.6.5-py3-none-any.whl (13 kB)\n",
      "Installing collected packages: ecmwf-api-client\n",
      "Successfully installed ecmwf-api-client-1.6.5\n",
      "Note: you may need to restart the kernel to use updated packages.\n"
     ]
    }
   ],
   "source": [
    "pip install ecmwf-api-client"
   ]
  },
  {
   "cell_type": "code",
   "execution_count": 3,
   "id": "c582d2f0-5299-4c03-a21d-98419b0fc61d",
   "metadata": {},
   "outputs": [
    {
     "name": "stdout",
     "output_type": "stream",
     "text": [
      "Collecting ecmwf-opendata\n",
      "  Downloading ecmwf_opendata-0.3.19-py3-none-any.whl.metadata (22 kB)\n",
      "Collecting multiurl>=0.2.1 (from ecmwf-opendata)\n",
      "  Downloading multiurl-0.3.5-py3-none-any.whl.metadata (2.8 kB)\n",
      "Requirement already satisfied: requests in /home/duskdawn/anaconda3/envs/pandas/lib/python3.12/site-packages (from multiurl>=0.2.1->ecmwf-opendata) (2.32.3)\n",
      "Requirement already satisfied: tqdm in /home/duskdawn/anaconda3/envs/pandas/lib/python3.12/site-packages (from multiurl>=0.2.1->ecmwf-opendata) (4.67.1)\n",
      "Requirement already satisfied: pytz in /home/duskdawn/anaconda3/envs/pandas/lib/python3.12/site-packages (from multiurl>=0.2.1->ecmwf-opendata) (2025.1)\n",
      "Requirement already satisfied: python-dateutil in /home/duskdawn/anaconda3/envs/pandas/lib/python3.12/site-packages (from multiurl>=0.2.1->ecmwf-opendata) (2.9.0.post0)\n",
      "Requirement already satisfied: six>=1.5 in /home/duskdawn/anaconda3/envs/pandas/lib/python3.12/site-packages (from python-dateutil->multiurl>=0.2.1->ecmwf-opendata) (1.17.0)\n",
      "Requirement already satisfied: charset-normalizer<4,>=2 in /home/duskdawn/anaconda3/envs/pandas/lib/python3.12/site-packages (from requests->multiurl>=0.2.1->ecmwf-opendata) (3.4.1)\n",
      "Requirement already satisfied: idna<4,>=2.5 in /home/duskdawn/anaconda3/envs/pandas/lib/python3.12/site-packages (from requests->multiurl>=0.2.1->ecmwf-opendata) (3.10)\n",
      "Requirement already satisfied: urllib3<3,>=1.21.1 in /home/duskdawn/anaconda3/envs/pandas/lib/python3.12/site-packages (from requests->multiurl>=0.2.1->ecmwf-opendata) (2.3.0)\n",
      "Requirement already satisfied: certifi>=2017.4.17 in /home/duskdawn/anaconda3/envs/pandas/lib/python3.12/site-packages (from requests->multiurl>=0.2.1->ecmwf-opendata) (2025.1.31)\n",
      "Downloading ecmwf_opendata-0.3.19-py3-none-any.whl (20 kB)\n",
      "Downloading multiurl-0.3.5-py3-none-any.whl (21 kB)\n",
      "Installing collected packages: multiurl, ecmwf-opendata\n",
      "Successfully installed ecmwf-opendata-0.3.19 multiurl-0.3.5\n",
      "Note: you may need to restart the kernel to use updated packages.\n"
     ]
    }
   ],
   "source": [
    "pip install ecmwf-opendata"
   ]
  },
  {
   "cell_type": "code",
   "execution_count": 4,
   "id": "951e792e-7861-42e3-9d60-2de85b55360c",
   "metadata": {},
   "outputs": [
    {
     "name": "stdout",
     "output_type": "stream",
     "text": [
      "Writing .ecmwfapirc\n"
     ]
    }
   ],
   "source": [
    "%%writefile ~/.ecmwfapirc\n",
    "# API key file for ECMWF WebAPI\n",
    "url: https://api.ecmwf.int/v1\n",
    "key: 73560544b486cd3111472514dac7a62f\n",
    "email: davidfreirefernandez1998@gmail.com"
   ]
  },
  {
   "cell_type": "code",
   "execution_count": 5,
   "id": "86beb28c-3d0e-44b0-8616-8b2627eb4656",
   "metadata": {},
   "outputs": [
    {
     "name": "stdout",
     "output_type": "stream",
     "text": [
      "# API key file for ECMWF WebAPI\n",
      "url: https://api.ecmwf.int/v1\n",
      "key: 73560544b486cd3111472514dac7a62f\n",
      "email: davidfreirefernandez1998@gmail.com\n"
     ]
    }
   ],
   "source": [
    "cat .ecmwfapirc"
   ]
  },
  {
   "cell_type": "markdown",
   "id": "5980cbeb-e739-450e-abd7-4572fbd2f6ad",
   "metadata": {},
   "source": [
    "# Retrieving BUFR via the ECMWF Web API (MARS) in Python\n",
    "- Now we can retrieve this data\n",
    "- ECMWF’s MARS (Meteorological Archival and Retrieval System) stores BUFR observation files in classes such as od (operational data), rd (reanalysis), or ea (ERA data) streams.\n",
    "- Each BUFR message has metadata (e.g., class, stream, type, date, time, expver, levtype, etc.) that you specify in your request."
   ]
  },
  {
   "cell_type": "markdown",
   "id": "4eb3d33e-98aa-4bcc-8cf5-6a9db26be834",
   "metadata": {},
   "source": [
    "MARS is ECMWF's Meteorological Archival and Retrieval System. This documentation focuses on facilities for the retrieval of data from ECMWF's operational and other archives, including the online Fields Data Base (FDB).\n",
    "https://confluence.ecmwf.int/display/UDOC/MARS+user+documentation"
   ]
  },
  {
   "cell_type": "code",
   "execution_count": 15,
   "id": "275f080e-bfe6-4f75-bf95-986dbfd53d83",
   "metadata": {},
   "outputs": [
    {
     "name": "stdout",
     "output_type": "stream",
     "text": [
      "2025-06-03 01:27:49 ECMWF API python library 1.6.5\n",
      "2025-06-03 01:27:49 ECMWF API at https://api.ecmwf.int/v1\n",
      "2025-06-03 01:27:50 Welcome David Freire Fernandez\n",
      "2025-06-03 01:27:55 In case of problems, please check https://confluence.ecmwf.int/display/WEBAPI/Web+API+FAQ or contact servicedesk@ecmwf.int\n",
      "2025-06-03 01:27:56 Request submitted\n",
      "2025-06-03 01:27:56 Request id: 683e337ccf1d95a18451bab9\n",
      "2025-06-03 01:27:56 Request is submitted\n",
      "2025-06-03 01:27:58 mars - ERROR  - 20250602.232756 - undefined value : bufr for parameter FORMAT\n",
      "2025-06-03 01:27:58 mars - ERROR  - 20250602.232756 - Values are : \n",
      "2025-06-03 01:27:58 PACKED or P\n",
      "2025-06-03 01:27:58 UNPACKED or U\n",
      "2025-06-03 01:27:58 GRIB EDITION 1 or GRIB1\n",
      "2025-06-03 01:27:58 GRIB EDITION 2 or GRIB2\n",
      "2025-06-03 01:27:58 NETCDF\n",
      "2025-06-03 01:27:58 ODB\n",
      "2025-06-03 01:27:58 ASCII\n",
      "2025-06-03 01:27:58 mars - FATAL  - 20250602.232756 - No request\n"
     ]
    },
    {
     "ename": "APIException",
     "evalue": "'ecmwf.API error 1: Bad request'",
     "output_type": "error",
     "traceback": [
      "\u001b[31m---------------------------------------------------------------------------\u001b[39m",
      "\u001b[31mAPIException\u001b[39m                              Traceback (most recent call last)",
      "\u001b[36mCell\u001b[39m\u001b[36m \u001b[39m\u001b[32mIn[15]\u001b[39m\u001b[32m, line 5\u001b[39m\n\u001b[32m      1\u001b[39m \u001b[38;5;28;01mfrom\u001b[39;00m\u001b[38;5;250m \u001b[39m\u001b[34;01mecmwfapi\u001b[39;00m\u001b[38;5;250m \u001b[39m\u001b[38;5;28;01mimport\u001b[39;00m ECMWFDataServer\n\u001b[32m      3\u001b[39m server = ECMWFDataServer()\n\u001b[32m----> \u001b[39m\u001b[32m5\u001b[39m \u001b[43mserver\u001b[49m\u001b[43m.\u001b[49m\u001b[43mretrieve\u001b[49m\u001b[43m(\u001b[49m\u001b[43m{\u001b[49m\n\u001b[32m      6\u001b[39m \u001b[43m    \u001b[49m\u001b[33;43m'\u001b[39;49m\u001b[33;43mstream\u001b[39;49m\u001b[33;43m'\u001b[39;49m\u001b[43m    \u001b[49m\u001b[43m:\u001b[49m\u001b[43m \u001b[49m\u001b[33;43m\"\u001b[39;49m\u001b[33;43moper\u001b[39;49m\u001b[33;43m\"\u001b[39;49m\u001b[43m,\u001b[49m\n\u001b[32m      7\u001b[39m \u001b[43m    \u001b[49m\u001b[33;43m'\u001b[39;49m\u001b[33;43mlevelist\u001b[39;49m\u001b[33;43m'\u001b[39;49m\u001b[43m  \u001b[49m\u001b[43m:\u001b[49m\u001b[43m \u001b[49m\u001b[33;43m\"\u001b[39;49m\u001b[33;43m1/2/3/5/7/10/20/30/50/70/100/150/200/250/300/400/500/600/700/775/850/925/1000\u001b[39;49m\u001b[33;43m\"\u001b[39;49m\u001b[43m,\u001b[49m\n\u001b[32m      8\u001b[39m \u001b[43m    \u001b[49m\u001b[33;43m'\u001b[39;49m\u001b[33;43mlevtype\u001b[39;49m\u001b[33;43m'\u001b[39;49m\u001b[43m   \u001b[49m\u001b[43m:\u001b[49m\u001b[43m \u001b[49m\u001b[33;43m\"\u001b[39;49m\u001b[33;43mpl\u001b[39;49m\u001b[33;43m\"\u001b[39;49m\u001b[43m,\u001b[49m\n\u001b[32m      9\u001b[39m \u001b[43m    \u001b[49m\u001b[33;43m'\u001b[39;49m\u001b[33;43mparam\u001b[39;49m\u001b[33;43m'\u001b[39;49m\u001b[43m     \u001b[49m\u001b[43m:\u001b[49m\u001b[43m \u001b[49m\u001b[33;43m\"\u001b[39;49m\u001b[33;43m130.128/131.128/132.128/157.128\u001b[39;49m\u001b[33;43m\"\u001b[39;49m\u001b[43m,\u001b[49m\n\u001b[32m     10\u001b[39m \u001b[43m    \u001b[49m\u001b[33;43m'\u001b[39;49m\u001b[33;43mdataset\u001b[39;49m\u001b[33;43m'\u001b[39;49m\u001b[43m   \u001b[49m\u001b[43m:\u001b[49m\u001b[43m \u001b[49m\u001b[33;43m\"\u001b[39;49m\u001b[33;43mera40\u001b[39;49m\u001b[33;43m\"\u001b[39;49m\u001b[43m,\u001b[49m\n\u001b[32m     11\u001b[39m \u001b[43m    \u001b[49m\u001b[33;43m'\u001b[39;49m\u001b[33;43mstep\u001b[39;49m\u001b[33;43m'\u001b[39;49m\u001b[43m      \u001b[49m\u001b[43m:\u001b[49m\u001b[43m \u001b[49m\u001b[33;43m\"\u001b[39;49m\u001b[33;43m0\u001b[39;49m\u001b[33;43m\"\u001b[39;49m\u001b[43m,\u001b[49m\n\u001b[32m     12\u001b[39m \u001b[43m    \u001b[49m\u001b[33;43m'\u001b[39;49m\u001b[33;43mtime\u001b[39;49m\u001b[33;43m'\u001b[39;49m\u001b[43m      \u001b[49m\u001b[43m:\u001b[49m\u001b[43m \u001b[49m\u001b[33;43m\"\u001b[39;49m\u001b[33;43m00/06/12/18\u001b[39;49m\u001b[33;43m\"\u001b[39;49m\u001b[43m,\u001b[49m\n\u001b[32m     13\u001b[39m \u001b[43m    \u001b[49m\u001b[33;43m'\u001b[39;49m\u001b[33;43mdate\u001b[39;49m\u001b[33;43m'\u001b[39;49m\u001b[43m      \u001b[49m\u001b[43m:\u001b[49m\u001b[43m \u001b[49m\u001b[33;43m\"\u001b[39;49m\u001b[33;43m2002-08-01/to/2002-08-31\u001b[39;49m\u001b[33;43m\"\u001b[39;49m\u001b[43m,\u001b[49m\n\u001b[32m     14\u001b[39m \u001b[43m    \u001b[49m\u001b[33;43m'\u001b[39;49m\u001b[33;43mtype\u001b[39;49m\u001b[33;43m'\u001b[39;49m\u001b[43m      \u001b[49m\u001b[43m:\u001b[49m\u001b[43m \u001b[49m\u001b[33;43m\"\u001b[39;49m\u001b[33;43man\u001b[39;49m\u001b[33;43m\"\u001b[39;49m\u001b[43m,\u001b[49m\n\u001b[32m     15\u001b[39m \u001b[43m    \u001b[49m\u001b[33;43m'\u001b[39;49m\u001b[33;43mclass\u001b[39;49m\u001b[33;43m'\u001b[39;49m\u001b[43m     \u001b[49m\u001b[43m:\u001b[49m\u001b[43m \u001b[49m\u001b[33;43m\"\u001b[39;49m\u001b[33;43me4\u001b[39;49m\u001b[33;43m\"\u001b[39;49m\u001b[43m,\u001b[49m\n\u001b[32m     16\u001b[39m \u001b[43m    \u001b[49m\u001b[33;43m'\u001b[39;49m\u001b[33;43mformat\u001b[39;49m\u001b[33;43m'\u001b[39;49m\u001b[43m \u001b[49m\u001b[43m:\u001b[49m\u001b[43m \u001b[49m\u001b[33;43m'\u001b[39;49m\u001b[33;43mbufr\u001b[39;49m\u001b[33;43m'\u001b[39;49m\u001b[43m,\u001b[49m\n\u001b[32m     17\u001b[39m \u001b[43m    \u001b[49m\u001b[33;43m'\u001b[39;49m\u001b[33;43mtarget\u001b[39;49m\u001b[33;43m'\u001b[39;49m\u001b[43m    \u001b[49m\u001b[43m:\u001b[49m\u001b[43m \u001b[49m\u001b[33;43m\"\u001b[39;49m\u001b[33;43mera40_2002-08-01to2002-08-31_00061218.bufr\u001b[39;49m\u001b[33;43m\"\u001b[39;49m\n\u001b[32m     18\u001b[39m \u001b[43m}\u001b[49m\u001b[43m)\u001b[49m\n",
      "\u001b[36mFile \u001b[39m\u001b[32m~/anaconda3/envs/pandas/lib/python3.12/site-packages/ecmwfapi/api.py:607\u001b[39m, in \u001b[36mECMWFDataServer.retrieve\u001b[39m\u001b[34m(self, req)\u001b[39m\n\u001b[32m    598\u001b[39m dataset = req.get(\u001b[33m\"\u001b[39m\u001b[33mdataset\u001b[39m\u001b[33m\"\u001b[39m)\n\u001b[32m    599\u001b[39m c = APIRequest(\n\u001b[32m    600\u001b[39m     \u001b[38;5;28mself\u001b[39m.url,\n\u001b[32m    601\u001b[39m     \u001b[33m\"\u001b[39m\u001b[33mdatasets/\u001b[39m\u001b[38;5;132;01m%s\u001b[39;00m\u001b[33m\"\u001b[39m % (dataset,),\n\u001b[32m   (...)\u001b[39m\u001b[32m    605\u001b[39m     verbose=\u001b[38;5;28mself\u001b[39m.verbose,\n\u001b[32m    606\u001b[39m )\n\u001b[32m--> \u001b[39m\u001b[32m607\u001b[39m \u001b[43mc\u001b[49m\u001b[43m.\u001b[49m\u001b[43mexecute\u001b[49m\u001b[43m(\u001b[49m\u001b[43mreq\u001b[49m\u001b[43m,\u001b[49m\u001b[43m \u001b[49m\u001b[43mtarget\u001b[49m\u001b[43m)\u001b[49m\n",
      "\u001b[36mFile \u001b[39m\u001b[32m~/anaconda3/envs/pandas/lib/python3.12/site-packages/ecmwfapi/api.py:532\u001b[39m, in \u001b[36mAPIRequest.execute\u001b[39m\u001b[34m(self, request, target)\u001b[39m\n\u001b[32m    530\u001b[39m         status = \u001b[38;5;28mself\u001b[39m.connection.status\n\u001b[32m    531\u001b[39m         \u001b[38;5;28mself\u001b[39m.log(\u001b[33m\"\u001b[39m\u001b[33mRequest is \u001b[39m\u001b[38;5;132;01m%s\u001b[39;00m\u001b[33m\"\u001b[39m % (status,))\n\u001b[32m--> \u001b[39m\u001b[32m532\u001b[39m     \u001b[38;5;28;43mself\u001b[39;49m\u001b[43m.\u001b[49m\u001b[43mconnection\u001b[49m\u001b[43m.\u001b[49m\u001b[43mwait\u001b[49m\u001b[43m(\u001b[49m\u001b[43m)\u001b[49m\n\u001b[32m    534\u001b[39m \u001b[38;5;28;01mif\u001b[39;00m \u001b[38;5;28mself\u001b[39m.connection.status != status:\n\u001b[32m    535\u001b[39m     status = \u001b[38;5;28mself\u001b[39m.connection.status\n",
      "\u001b[36mFile \u001b[39m\u001b[32m~/anaconda3/envs/pandas/lib/python3.12/site-packages/ecmwfapi/api.py:406\u001b[39m, in \u001b[36mConnection.wait\u001b[39m\u001b[34m(self)\u001b[39m\n\u001b[32m    404\u001b[39m     \u001b[38;5;28mself\u001b[39m.log(\u001b[33m\"\u001b[39m\u001b[33mSleeping \u001b[39m\u001b[38;5;132;01m%s\u001b[39;00m\u001b[33m second(s)\u001b[39m\u001b[33m\"\u001b[39m % (\u001b[38;5;28mself\u001b[39m.retry))\n\u001b[32m    405\u001b[39m time.sleep(\u001b[38;5;28mself\u001b[39m.retry)\n\u001b[32m--> \u001b[39m\u001b[32m406\u001b[39m \u001b[38;5;28;43mself\u001b[39;49m\u001b[43m.\u001b[49m\u001b[43mcall\u001b[49m\u001b[43m(\u001b[49m\u001b[38;5;28;43mself\u001b[39;49m\u001b[43m.\u001b[49m\u001b[43mlocation\u001b[49m\u001b[43m,\u001b[49m\u001b[43m \u001b[49m\u001b[38;5;28;43;01mNone\u001b[39;49;00m\u001b[43m,\u001b[49m\u001b[43m \u001b[49m\u001b[33;43m\"\u001b[39;49m\u001b[33;43mGET\u001b[39;49m\u001b[33;43m\"\u001b[39;49m\u001b[43m)\u001b[49m\n",
      "\u001b[36mFile \u001b[39m\u001b[32m~/anaconda3/envs/pandas/lib/python3.12/site-packages/ecmwfapi/api.py:183\u001b[39m, in \u001b[36mrobust.<locals>.wrapped\u001b[39m\u001b[34m(self, *args, **kwargs)\u001b[39m\n\u001b[32m    181\u001b[39m \u001b[38;5;28;01mwhile\u001b[39;00m tries > \u001b[32m0\u001b[39m:\n\u001b[32m    182\u001b[39m     \u001b[38;5;28;01mtry\u001b[39;00m:\n\u001b[32m--> \u001b[39m\u001b[32m183\u001b[39m         \u001b[38;5;28;01mreturn\u001b[39;00m \u001b[43mfunc\u001b[49m\u001b[43m(\u001b[49m\u001b[38;5;28;43mself\u001b[39;49m\u001b[43m,\u001b[49m\u001b[43m \u001b[49m\u001b[43m*\u001b[49m\u001b[43margs\u001b[49m\u001b[43m,\u001b[49m\u001b[43m \u001b[49m\u001b[43m*\u001b[49m\u001b[43m*\u001b[49m\u001b[43mkwargs\u001b[49m\u001b[43m)\u001b[49m\n\u001b[32m    184\u001b[39m     \u001b[38;5;28;01mexcept\u001b[39;00m HTTPError \u001b[38;5;28;01mas\u001b[39;00m e:\n\u001b[32m    185\u001b[39m         \u001b[38;5;28;01mif\u001b[39;00m \u001b[38;5;28mself\u001b[39m.verbose:\n",
      "\u001b[36mFile \u001b[39m\u001b[32m~/anaconda3/envs/pandas/lib/python3.12/site-packages/ecmwfapi/api.py:386\u001b[39m, in \u001b[36mConnection.call\u001b[39m\u001b[34m(self, url, payload, method)\u001b[39m\n\u001b[32m    383\u001b[39m     \u001b[38;5;28mself\u001b[39m.done = \u001b[38;5;28;01mTrue\u001b[39;00m\n\u001b[32m    385\u001b[39m \u001b[38;5;28;01mif\u001b[39;00m \u001b[33m\"\u001b[39m\u001b[33merror\u001b[39m\u001b[33m\"\u001b[39m \u001b[38;5;129;01min\u001b[39;00m \u001b[38;5;28mself\u001b[39m.last:\n\u001b[32m--> \u001b[39m\u001b[32m386\u001b[39m     \u001b[38;5;28;01mraise\u001b[39;00m APIException(\u001b[33m\"\u001b[39m\u001b[33mecmwf.API error 1: \u001b[39m\u001b[38;5;132;01m%s\u001b[39;00m\u001b[33m\"\u001b[39m % (\u001b[38;5;28mself\u001b[39m.last[\u001b[33m\"\u001b[39m\u001b[33merror\u001b[39m\u001b[33m\"\u001b[39m],))\n\u001b[32m    388\u001b[39m \u001b[38;5;28;01mif\u001b[39;00m error:\n\u001b[32m    389\u001b[39m     \u001b[38;5;28;01mraise\u001b[39;00m APIException(\u001b[33m\"\u001b[39m\u001b[33mecmwf.API error 2: \u001b[39m\u001b[38;5;132;01m%s\u001b[39;00m\u001b[33m\"\u001b[39m % (res,))\n",
      "\u001b[31mAPIException\u001b[39m: 'ecmwf.API error 1: Bad request'"
     ]
    }
   ],
   "source": [
    "from ecmwfapi import ECMWFDataServer\n",
    "\n",
    "server = ECMWFDataServer()\n",
    "\n",
    "server.retrieve({\n",
    "    'stream'    : \"oper\",\n",
    "    'levelist'  : \"1/2/3/5/7/10/20/30/50/70/100/150/200/250/300/400/500/600/700/775/850/925/1000\",\n",
    "    'levtype'   : \"pl\",\n",
    "    'param'     : \"130.128/131.128/132.128/157.128\",\n",
    "    'dataset'   : \"era40\",\n",
    "    'step'      : \"0\",\n",
    "    'time'      : \"00/06/12/18\",\n",
    "    'date'      : \"2002-08-01/to/2002-08-31\",\n",
    "    'type'      : \"an\",\n",
    "    'class'     : \"e4\",\n",
    "    'format' : 'bufr',\n",
    "    'target'    : \"era40_2002-08-01to2002-08-31_00061218.bufr\"\n",
    "})\n"
   ]
  },
  {
   "cell_type": "code",
   "execution_count": null,
   "id": "c06ac7a6-59e1-43e1-a13d-05f92ed18285",
   "metadata": {},
   "outputs": [],
   "source": []
  }
 ],
 "metadata": {
  "kernelspec": {
   "display_name": "Python 3 (ipykernel)",
   "language": "python",
   "name": "python3"
  },
  "language_info": {
   "codemirror_mode": {
    "name": "ipython",
    "version": 3
   },
   "file_extension": ".py",
   "mimetype": "text/x-python",
   "name": "python",
   "nbconvert_exporter": "python",
   "pygments_lexer": "ipython3",
   "version": "3.12.9"
  }
 },
 "nbformat": 4,
 "nbformat_minor": 5
}
